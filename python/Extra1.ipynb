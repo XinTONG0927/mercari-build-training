{
  "nbformat": 4,
  "nbformat_minor": 0,
  "metadata": {
    "colab": {
      "provenance": []
    },
    "kernelspec": {
      "name": "python3",
      "display_name": "Python 3"
    },
    "language_info": {
      "name": "python"
    }
  },
  "cells": [
    {
      "cell_type": "code",
      "execution_count": null,
      "metadata": {
        "colab": {
          "base_uri": "https://localhost:8080/"
        },
        "id": "v2GTqrj4kxEE",
        "outputId": "3dadd8a8-6643-4d94-b2c7-84325ad4256f"
      },
      "outputs": [
        {
          "output_type": "execute_result",
          "data": {
            "text/plain": [
              "False"
            ]
          },
          "metadata": {},
          "execution_count": 6
        }
      ],
      "source": [
        "#290. Word Pattern\n",
        "\n",
        "class Solution:\n",
        "    def wordPattern(self, pattern: str, s: str) -> bool:\n",
        "        dict_l = {}\n",
        "        dict_w = {}\n",
        "        s_list = s.split(\" \")\n",
        "        if len(s_list) != len(pattern):\n",
        "            return False\n",
        "        for index, latter in enumerate(pattern):\n",
        "            word = s_list[index]\n",
        "            if dict_l.get(latter) == None and dict_w.get(word) == None:\n",
        "                dict_l[latter] = word\n",
        "                dict_w[word] = latter\n",
        "            else:\n",
        "                if dict_l.get(latter) != None and dict_l.get(latter) != word:\n",
        "                    return False\n",
        "                if dict_w.get(word) != None and dict_w.get(word) != latter:\n",
        "                    return False\n",
        "        return True\n",
        "\n",
        "pattern = \"abba\"\n",
        "s = \"dog cat cat fish\"\n",
        "# Answer = False\n",
        "Solution().wordPattern(pattern, s)"
      ]
    },
    {
      "cell_type": "code",
      "source": [
        "#448. Find All Numbers Disappeared in an Array\n",
        "\n",
        "from typing import List\n",
        "class Solution:\n",
        "    def findDisappearedNumbers(self, nums: List[int]) -> List[int]:\n",
        "        n = len(nums)+1\n",
        "        for i in nums:\n",
        "            num = i % n\n",
        "            nums[num-1] += n\n",
        "        n_list = []\n",
        "        for i,num in enumerate(nums):\n",
        "            if num < n:\n",
        "                n_list.append(i+1)\n",
        "        return n_list\n",
        "\n",
        "nums = [4,3,2,7,8,2,3,1]\n",
        "# Answer = [5,6]\n",
        "Solution().findDisappearedNumbers(nums)"
      ],
      "metadata": {
        "id": "JyOrRjUZ2wvs",
        "colab": {
          "base_uri": "https://localhost:8080/"
        },
        "outputId": "c2f5b9f9-a9f4-478f-8129-508e83e508e8"
      },
      "execution_count": null,
      "outputs": [
        {
          "output_type": "execute_result",
          "data": {
            "text/plain": [
              "[5, 6]"
            ]
          },
          "metadata": {},
          "execution_count": 5
        }
      ]
    },
    {
      "cell_type": "code",
      "source": [
        "#160. Intersection of Two Linked Lists\n",
        "\n",
        "class Solution:\n",
        "    def getIntersectionNode(self, headA: ListNode, headB: ListNode) -> Optional[ListNode]:\n",
        "      #double points\n",
        "        pointA, pointB = headA, headB\n",
        "        while pointA != pointB:\n",
        "            pointA = pointA.next if pointA else headB\n",
        "            pointB = pointB.next if pointB else headA\n",
        "        return pointA\n"
      ],
      "metadata": {
        "id": "L6oTSYev2yxJ"
      },
      "execution_count": null,
      "outputs": []
    },
    {
      "cell_type": "code",
      "source": [
        "#875. Koko Eating Bananas\n",
        "\n",
        "from typing import List\n",
        "class Solution:\n",
        "    def minEatingSpeed(self, piles: List[int], h: int) -> int:\n",
        "        #return eating time given speed k.\n",
        "        import math\n",
        "        def EatingTime(piles, k):\n",
        "            time = 0\n",
        "            for pile in piles:\n",
        "                time += math.ceil(pile / k)\n",
        "            return time\n",
        "\n",
        "        #binary search\n",
        "        upper = max(piles)\n",
        "        lower = math.ceil(sum(piles) / h)\n",
        "        while(1):\n",
        "            k = (lower+upper) // 2\n",
        "            time = EatingTime(piles, k)\n",
        "            if time <= h:\n",
        "                if k == 1 or EatingTime(piles, k-1) > h:\n",
        "                    return k\n",
        "                else:\n",
        "                    upper = k\n",
        "            elif time > h:\n",
        "                lower = k+1\n",
        "\n",
        "piles = [3,6,7,11]\n",
        "h = 8\n",
        "# Answer = 4\n",
        "Solution().minEatingSpeed(piles,h)"
      ],
      "metadata": {
        "colab": {
          "base_uri": "https://localhost:8080/"
        },
        "id": "CmuHtqWQpfsC",
        "outputId": "bf4f4ca9-1e8e-4401-89a0-9a392821e6ac"
      },
      "execution_count": null,
      "outputs": [
        {
          "output_type": "execute_result",
          "data": {
            "text/plain": [
              "4"
            ]
          },
          "metadata": {},
          "execution_count": 4
        }
      ]
    },
    {
      "cell_type": "code",
      "source": [
        "#435. Non overlapping intervals\n",
        "\n",
        "from typing import List\n",
        "class Solution:\n",
        "    def eraseOverlapIntervals(self, intervals: List[List[int]]) -> int:\n",
        "        L = sorted(intervals, key= lambda x: x[0])\n",
        "        upper = -50000\n",
        "        num = 0\n",
        "        for interval in L:\n",
        "            if interval[0] >= upper:\n",
        "                upper = interval[1]\n",
        "            elif  interval[1] <= upper:\n",
        "                upper = interval[1]\n",
        "                num += 1\n",
        "            else:\n",
        "                num += 1\n",
        "        return num\n",
        "\n",
        "intervals = [[1,2],[2,3],[3,4],[1,3]]\n",
        "# Answer = 1\n",
        "Solution().eraseOverlapIntervals(intervals)"
      ],
      "metadata": {
        "colab": {
          "base_uri": "https://localhost:8080/"
        },
        "id": "aNkpO4AtSa8Z",
        "outputId": "468763c9-2e8d-45f8-afc2-75fbae30a1bb"
      },
      "execution_count": null,
      "outputs": [
        {
          "output_type": "execute_result",
          "data": {
            "text/plain": [
              "1"
            ]
          },
          "metadata": {},
          "execution_count": 3
        }
      ]
    },
    {
      "cell_type": "code",
      "source": [
        "#3. longest substring without repeating characters\n",
        "\n",
        "class Solution:\n",
        "    def lengthOfLongestSubstring(self, s: str) -> int:\n",
        "        #hash table recording the index of each character\n",
        "        if len(s) < 2:\n",
        "            return len(s)\n",
        "        max_length = 0\n",
        "        left = 0\n",
        "        char_dict = {}\n",
        "        for right,char in enumerate(s):\n",
        "            if char_dict.get(char) == None or char_dict[char] < left:\n",
        "                char_dict[char] = right\n",
        "            elif char_dict[char] >= left:\n",
        "                max_length = max(max_length, right-left)\n",
        "                left = char_dict[char] + 1\n",
        "                char_dict[char] = right\n",
        "\n",
        "        return max(right - left + 1, max_length)\n",
        "\n",
        "s = \"abcabcbb\"\n",
        "# Answer = 3\n",
        "Solution().lengthOfLongestSubstring(s)"
      ],
      "metadata": {
        "id": "lXDRTbFkGS2r",
        "colab": {
          "base_uri": "https://localhost:8080/"
        },
        "outputId": "e70c24d6-775c-4e2d-dad3-adeadcce797d"
      },
      "execution_count": null,
      "outputs": [
        {
          "output_type": "execute_result",
          "data": {
            "text/plain": [
              "3"
            ]
          },
          "metadata": {},
          "execution_count": 1
        }
      ]
    }
  ]
}